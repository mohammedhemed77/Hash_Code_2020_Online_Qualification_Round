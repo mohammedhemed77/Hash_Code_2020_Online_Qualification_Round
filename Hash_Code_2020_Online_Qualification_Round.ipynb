{
  "nbformat": 4,
  "nbformat_minor": 0,
  "metadata": {
    "colab": {
      "name": "Hash_Code_2020_Online_Qualification_Round.ipynb",
      "provenance": [],
      "collapsed_sections": [],
      "toc_visible": true,
      "authorship_tag": "ABX9TyP3ut7nU261RnDobx1nr5GG",
      "include_colab_link": true
    },
    "kernelspec": {
      "name": "python3",
      "display_name": "Python 3"
    }
  },
  "cells": [
    {
      "cell_type": "markdown",
      "metadata": {
        "id": "view-in-github",
        "colab_type": "text"
      },
      "source": [
        "<a href=\"https://colab.research.google.com/github/thuvarahan97/Hash_Code_2020_Online_Qualification_Round/blob/master/Hash_Code_2020_Online_Qualification_Round.ipynb\" target=\"_parent\"><img src=\"https://colab.research.google.com/assets/colab-badge.svg\" alt=\"Open In Colab\"/></a>"
      ]
    },
    {
      "cell_type": "code",
      "metadata": {
        "id": "5YEmbPJzsiwY",
        "colab_type": "code",
        "colab": {}
      },
      "source": [
        "from operator import itemgetter\n",
        "# from memo import memo\n",
        "# import sys\n",
        "# sys.setrecursionlimit(150000)"
      ],
      "execution_count": 0,
      "outputs": []
    },
    {
      "cell_type": "code",
      "metadata": {
        "id": "tqFFIzdNtM_K",
        "colab_type": "code",
        "colab": {}
      },
      "source": [
        "i_file = open('a_example.txt', 'r')"
      ],
      "execution_count": 0,
      "outputs": []
    },
    {
      "cell_type": "code",
      "metadata": {
        "id": "yvVC3qtbtZhh",
        "colab_type": "code",
        "colab": {}
      },
      "source": [
        "line1 = i_file.readline()\n",
        "line1_list = list(map(int, line1.strip().split(\" \")))\n",
        "\n",
        "B = line1_list[0]\n",
        "L = line1_list[1]\n",
        "D = line1_list[2]"
      ],
      "execution_count": 0,
      "outputs": []
    },
    {
      "cell_type": "code",
      "metadata": {
        "id": "3OrIIEM91WwV",
        "colab_type": "code",
        "colab": {}
      },
      "source": [
        "line2 = i_file.readline()\n",
        "line2_list = list(map(int, line2.strip().split(\" \")))\n",
        "\n",
        "S = line2_list"
      ],
      "execution_count": 0,
      "outputs": []
    },
    {
      "cell_type": "code",
      "metadata": {
        "id": "qPynp_gM38vV",
        "colab_type": "code",
        "colab": {}
      },
      "source": [
        "libraries = []\n",
        "\n",
        "for j in range(L):\n",
        "  L_line1 = i_file.readline()\n",
        "  L_line1_list = list(map(int, L_line1.strip().split(\" \")))\n",
        "  N = L_line1_list[0]\n",
        "  T = L_line1_list[1]\n",
        "  M = L_line1_list[2]\n",
        "\n",
        "  ratio = float(T)*float(M)/float(N)\n",
        "\n",
        "  scan_days = M//N + (M%N>0)\n",
        "  \n",
        "  L_line2 = i_file.readline()\n",
        "  L_line2_list = list(map(int, L_line2.strip().split(\" \")))\n",
        "  books = L_line2_list\n",
        "\n",
        "  libraries.append([N, T, M, ratio, books, scan_days])"
      ],
      "execution_count": 0,
      "outputs": []
    },
    {
      "cell_type": "code",
      "metadata": {
        "id": "iVMLOYG64AXo",
        "colab_type": "code",
        "colab": {}
      },
      "source": [
        "i_file.close()"
      ],
      "execution_count": 0,
      "outputs": []
    },
    {
      "cell_type": "code",
      "metadata": {
        "id": "lDeZmlZj5nmP",
        "colab_type": "code",
        "colab": {}
      },
      "source": [
        "# print (libraries)"
      ],
      "execution_count": 0,
      "outputs": []
    },
    {
      "cell_type": "code",
      "metadata": {
        "id": "8ygUGKPUBOVo",
        "colab_type": "code",
        "colab": {}
      },
      "source": [
        "libraries_sorted = sorted(libraries, key=itemgetter(3), reverse=False)\n",
        "# libraries_sorted = libraries\n",
        "# print (libraries_sorted)\n",
        "# print (max([item[3] for item in libraries]))"
      ],
      "execution_count": 0,
      "outputs": []
    },
    {
      "cell_type": "code",
      "metadata": {
        "id": "jFUGnTsvSGBp",
        "colab_type": "code",
        "colab": {}
      },
      "source": [
        "# def fn(D, j, libraries_sorted):\n",
        "#   if (D!=0):\n",
        "#     if (j<=L-1):\n",
        "#       if (libraries_sorted[j][5] != 0):\n",
        "#         if (libraries_sorted[j][1] != 0):\n",
        "#           libraries_sorted[j][1] -= 1\n",
        "#           D -= 1\n",
        "#           return fn(D, j, libraries_sorted)\n",
        "#         else:\n",
        "#           if ((j < L-1) and (libraries_sorted[j+1][1] < libraries_sorted[j][5])):\n",
        "#             j += 1\n",
        "#             return fn(D, j, libraries_sorted)\n",
        "#           else:\n",
        "#             libraries_sorted[j][5] -= 1\n",
        "#             D -= 1\n",
        "#             return fn(D, j, libraries_sorted)\n",
        "#       else:\n",
        "#         j += 1\n",
        "#         return fn(D, j, libraries_sorted)\n",
        "#   else:\n",
        "#     return j\n"
      ],
      "execution_count": 0,
      "outputs": []
    },
    {
      "cell_type": "code",
      "metadata": {
        "id": "m7AcRABZwo1X",
        "colab_type": "code",
        "colab": {}
      },
      "source": [
        "l_all_books = [i for i in range(len(S))]\n",
        "\n",
        "l_all_books_sorted = [x for _,x in sorted(zip(S,l_all_books), reverse=True)]\n",
        "# print(l_all_books_sorted)\n",
        "\n",
        "for v in range(len(libraries_sorted)):\n",
        "  libraries_sorted[v][4].sort(key=lambda x: l_all_books_sorted.index(x))\n",
        "\n",
        "j = 0\n",
        "lib_output = []\n",
        "lib = [libraries.index(libraries_sorted[j])]\n",
        "l_books = []"
      ],
      "execution_count": 0,
      "outputs": []
    },
    {
      "cell_type": "code",
      "metadata": {
        "id": "kTDWLCMZ_Vbe",
        "colab_type": "code",
        "colab": {}
      },
      "source": [
        "while (D >= 0):\n",
        "  if (j <= L-1):\n",
        "    if (libraries_sorted[j][5] != 0):\n",
        "      if (libraries_sorted[j][1] != 0):\n",
        "        libraries_sorted[j][1] -= 1\n",
        "        D -= 1\n",
        "      else:\n",
        "        if ((j < L-1) and (libraries_sorted[j+1][1] >= libraries_sorted[j][5])):\n",
        "          if (libraries_sorted[j][5] <= D):\n",
        "            l_books1 = libraries_sorted[j][4]\n",
        "            for i in range(len(l_books1)):\n",
        "              if l_books1[i] in l_all_books:\n",
        "                l_books.append(l_books1[i])\n",
        "                l_all_books.remove(l_books1[i])\n",
        "            libraries_sorted[j][5] = 0\n",
        "          else:\n",
        "            l_books1 = libraries_sorted[j][4][0:(D*libraries_sorted[j][2])]\n",
        "            for i in range(len(l_books1)):\n",
        "              if l_books1[i] in l_all_books:\n",
        "                l_books.append(l_books1[i])\n",
        "                l_all_books.remove(l_books1[i])\n",
        "            libraries_sorted[j][5] -= D\n",
        "\n",
        "          if (len(l_books) > 0):\n",
        "            lib.append(l_books)\n",
        "            lib_output.append(lib)\n",
        "          j += 1\n",
        "          lib = [libraries.index(libraries_sorted[j])]\n",
        "          l_books = []\n",
        "        else:\n",
        "          for i in range(libraries_sorted[j][2]):\n",
        "            if (len(libraries_sorted[j][4]) > 0):\n",
        "              if libraries_sorted[j][4][0] in l_all_books:\n",
        "                l_all_books.remove(libraries_sorted[j][4][0])\n",
        "                l_books.append(libraries_sorted[j][4].pop(0))\n",
        "              else:\n",
        "                libraries_sorted[j][4].pop(0)\n",
        "              libraries_sorted[j][5] -= 1\n",
        "          D -= 1\n",
        "          if ((D == 0) and (len(l_books) > 0)):\n",
        "            lib.append(l_books)\n",
        "            lib_output.append(lib)\n",
        "    else:\n",
        "      if (len(l_books) > 0):\n",
        "        lib.append(l_books)\n",
        "        lib_output.append(lib)\n",
        "      j += 1\n",
        "      lib = [libraries.index(libraries_sorted[j])]\n",
        "      l_books = []"
      ],
      "execution_count": 0,
      "outputs": []
    },
    {
      "cell_type": "code",
      "metadata": {
        "id": "uFH9vhBccmwl",
        "colab_type": "code",
        "colab": {
          "base_uri": "https://localhost:8080/",
          "height": 34
        },
        "outputId": "c1464440-87c4-46af-9702-bbbe93ffcfba"
      },
      "source": [
        "print (lib_output)"
      ],
      "execution_count": 42,
      "outputs": [
        {
          "output_type": "stream",
          "text": [
            "[[1, [3, 5, 2, 0]], [0, [4, 1]]]\n"
          ],
          "name": "stdout"
        }
      ]
    },
    {
      "cell_type": "code",
      "metadata": {
        "id": "em0ejq1aCFSe",
        "colab_type": "code",
        "colab": {}
      },
      "source": [
        "o_file = open('output.txt', 'w')\n",
        "o_file.write(str(len(lib_output)))\n",
        "\n",
        "for i in range(len(lib_output)):\n",
        "  o_file.write(\"\\n\")\n",
        "  o_file.write(str(lib_output[i][0]) + \" \" + str(len(lib_output[i][1])))\n",
        "  o_file.write(\"\\n\")\n",
        "  o_file.write(' '.join(map(str,lib_output[i][1])))\n",
        "\n",
        "o_file.close()"
      ],
      "execution_count": 0,
      "outputs": []
    }
  ]
}